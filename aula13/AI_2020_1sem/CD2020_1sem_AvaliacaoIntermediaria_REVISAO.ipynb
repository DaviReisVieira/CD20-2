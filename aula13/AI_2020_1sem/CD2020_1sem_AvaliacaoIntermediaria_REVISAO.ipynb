{
 "cells": [
  {
   "cell_type": "markdown",
   "metadata": {},
   "source": [
    "Escreva seu nome: <font color=red>PARA ESTUDAR COMO REVISÃO</font>"
   ]
  },
  {
   "cell_type": "markdown",
   "metadata": {},
   "source": [
    "\n",
    "\n",
    "# Avaliação Intermediária de Ciência dos dados\n",
    "\n",
    "**2020 - 1o. semestre**"
   ]
  },
  {
   "cell_type": "markdown",
   "metadata": {},
   "source": [
    " ___\n",
    "## Instruções\n",
    "\n",
    "**Leia atentamente as instruções da Avaliação Intermediária. Elas devem ser seguidas rigorosamente!**\n",
    "\n",
    "**Prezado(a) Aluno(a),**\n",
    "\n",
    "Você terá **120 minutos** a partir do início oficial da prova (**às 13h30 do dia 16/04**) para concluir esta avaliação, administre bem o seu tempo. Leia atentamente as instruções a seguir e as questões da prova antes de começar a resolvê-la.\n",
    "\n",
    "1. Identifique-se no cabeçalho deste arquivo.\n",
    "2. Esta Avaliação Intermediária é composta por uma parte no Jupyter e outra parte com respostas no Blackboard.\n",
    "3. Você receberá instruções complementares sobre como obter acesso à parte eletrônica da prova, a qual fará referência as questões desta avaliação. Leia atentamente as precauções de segurança para evitar ter sua prova anulada.\n",
    "4. Em caso de dúvida sobre alguma questão desta avaliação, redija um texto em uma nova célula deste Jupyter notebook explicitando-a para que o professor avalie a pertinência durante a correção.  \n",
    "5. Você pode utilizar qualquer material individual para consulta – anotações, livros, etc. Mas não pode compartilhar este material com seus colegas.\n",
    "6. Consulta a colegas constituirá violação ao Código de Ética e de Conduta e acarretarão sanções nele previstas. Faça o seu trabalho de maneira ética!\n",
    "7. Leia atentamente cada questão e responda o que for pedido. Erros conceituais serão penalizados, mesmo que o conceito não se relacione com o que foi pedido na questão.\n",
    "8. Caso em algum item você necessite do resultado de um item anterior que você não conseguiu fazer, admita um valor razoável para esse resultado e faça o item normalmente. Indique na questão, caso isso aconteça.\n",
    "9. Todos os resultados devem ser justificados. Números que apareçam sem uma explicação de como foram encontrados serão ignorados na correção.\n",
    "10. A qualidade do código na resolução em cada item também será levada em consideração, ou seja, códigos complicados para soluções que podem ser simples serão penalizados.\n",
    "11. Esta avaliação consiste em **duas entregas via Blackboard**. Este arquivo `.ipynb` deve ser entregue em `Conteúdos/Avaliações/Avaliação Intermediária/Jupyter Notebook: Avaliação Intermediária` (clique em `File->Download as->Notebook (.ipynb)`). As respostas das questões devem ser preenchidas no teste `Conteúdos/Avaliações/Avaliação Intermediária/Avaliação Intermediária`. As entregas devem ser realizadas por meio do Blackboard. **Não serão consideradas entregas por outros meios** (ex: e-mail, MS Teams, etc.).\n",
    "12. Não existe limite para a quantidade de tentativas no teste do Blackboard. Você pode tentar quantas vezes quiser dentro do limite de tempo da avaliação. **IMPORTANTE**: as submissões não serão corrigidas automaticamente. **O Blackboard indicará todas as respostas como erradas (nota zero).** Não se preocupe, sua última submissão será corrigida pelos professores após o término da avaliação.\n",
    "\n",
    "#### Precauções de segurança\n",
    "\n",
    "1.\tTodas as precauções abaixo podem ser resumidas da seguinte forma: consulte o material que quiser desde que não seja nenhuma pessoa e não compartilhe informações com ninguém. \n",
    "2.\tVocê não pode enviar nenhum tipo de mensagem durante a prova para qualquer pessoa dentro ou fora dela, com exceção do(a) professor(a). Por exemplo: e-mail, Skype, mensagens do Facebook, mensagens do WhatsApp, mensagens via Twitter, etc\n",
    "3.\tVocê não pode compartilhar nenhum tipo de informação em nenhum site, incluindo Pastebin, Codeshare, wikis, etc\n",
    "4.\tVocê não pode perguntar questões da prova no StackOverflow, StackExchange, MathExchange, etc. \n",
    "5.\tVocê não pode trabalhar a partir de máquinas remotas com LogMeIn, SSH, VNC ou VPNs. \n",
    "6.\tVocê pode procurar/tirar dúvida no Google.\n",
    "7.\tVocê pode consultar qualquer arquivo no seu computador.\n",
    "8.\tQualquer transgressão das normas acima pode zerar a nota da prova e implicar em infração ao código de ética do Insper."
   ]
  },
  {
   "cell_type": "markdown",
   "metadata": {},
   "source": [
    "___\n",
    "## Índice\n",
    "\n",
    "- [Questão 1](#q1)\n",
    "  * [Enunciado](#enunq1)\n",
    "  * [Perguntas usando Modelos Teóricos](#pergq1)\n",
    "    - [Item a (0,50 ponto)](#q1a)\n",
    "    - [Item b (0,75 ponto)](#q1b)\n",
    "    - [Item c (1,00 ponto)](#q1c)\n",
    "    - [Item d (1,00 ponto)](#q1d)\n",
    "    - [Item e (1,00 ponto)](#q1e)\n",
    "    - [Item f (0,75 ponto)](#q1f)\n",
    "  * [Perguntas usando Dados e Modelos Teóricos](#perg2q1)\n",
    "    - [Item g (0,50 ponto)](#q1g)\n",
    "    - [Item h (1,00 ponto)](#q1h)\n",
    "    - [Item i (1,00 ponto)](#q1i)\n",
    "- [Questão 2](#q2)\n",
    "    - [Item a (0,75 ponto)](#q2a)\n",
    "    - [Item b (1,00 ponto)](#q2b)\n",
    "    - [Item c (0,75 ponto)](#q2c)\n",
    "\n",
    "___"
   ]
  },
  {
   "cell_type": "markdown",
   "metadata": {},
   "source": [
    "___\n",
    "Carregando algumas bibliotecas:"
   ]
  },
  {
   "cell_type": "code",
   "execution_count": null,
   "metadata": {},
   "outputs": [],
   "source": [
    "%matplotlib inline\n",
    "import pandas as pd\n",
    "import matplotlib.pyplot as plt\n",
    "from scipy import stats\n",
    "import numpy as np\n",
    "import os"
   ]
  },
  {
   "cell_type": "code",
   "execution_count": null,
   "metadata": {
    "scrolled": false
   },
   "outputs": [],
   "source": [
    "print('Esperamos trabalhar no diretório')\n",
    "print(os.getcwd())"
   ]
  },
  {
   "cell_type": "markdown",
   "metadata": {},
   "source": [
    "<div id=\"q1\"></div>\n",
    "\n",
    "___\n",
    "## Questão 1 - 7,5 pontos"
   ]
  },
  {
   "cell_type": "markdown",
   "metadata": {},
   "source": [
    "<div id=\"enuncq1\"></div>\n",
    "\n",
    "<img src=\"./blu-ray.jpeg\" width=33% alt=\"Fonte: https://www.geek.com/gadgets/sony-unleashes-new-blu-ray-laser-capable-of-burning-128gb-quad-layer-discs-1288926/\"> </img>\n",
    "\n",
    "*Adaptado de Montgomery e Runger*\n",
    "\n",
    "*Lasers* semicondutores usados em drives de discos Blu-ray requerem níveis mais altos de potência para operações de **escrita** (gravação) do que para operações de **leitura**. Operações com níveis de alta potência baixam a vida útil do *laser*.\n",
    "\n",
    "*Lasers* que estejam em drives de Blu-ray podem ser usados para escrita ou leitura.\n",
    "\n",
    "Considere as seguintes informações:\n",
    "\n",
    " * $25\\%$ das vezes um drive de Blu-ray é usado apenas para escrita.\n",
    " * Aqui, assuma que de maneira complementar, $75\\%$ das vezes é utilizado apenas para leitura.\n",
    " * $X_L$: vida útil de um drive de Blu-ray, em anos, quando utilizado apenas para leitura, sendo $E(X_L)=5$.\n",
    " * $X_E$: vida útil de um drive de Blu-ray, em anos, quando utilizado apenas para escrita, sendo $E(X_E)=3$.\n",
    " * A vida útil de um drive de Blu-ray, em anos, é modelada por uma distribuição exponencial, ou seja, $X_L\\sim Exponencial$ e $X_E\\sim Exponencial$.\n",
    " "
   ]
  },
  {
   "cell_type": "markdown",
   "metadata": {},
   "source": [
    "___\n",
    "<div id=\"pergq1\"></div> \n",
    "\n",
    "### Perguntas usando Modelos Teóricos\n",
    "\n",
    "$\\quad$\n",
    "\n",
    "**Responda:**\n",
    "\n",
    "<div id=\"q1a\"></div>\n",
    "\n",
    "a. **[0,5 ponto]** Encontre a probabilidade de um drive de Blu-ray utilizado apenas para leitura dure mais do que 6 anos.\n"
   ]
  },
  {
   "cell_type": "code",
   "execution_count": null,
   "metadata": {},
   "outputs": [],
   "source": [
    "# ESCREVA SEU CÓDIGO AQUI"
   ]
  },
  {
   "cell_type": "markdown",
   "metadata": {},
   "source": [
    "<div id=\"q1b\"></div>\n",
    "\n",
    "b. **[0,75 ponto]** Se um drive de Blu-ray utilizado apenas para leitura já durou 2 anos, encontre a probabilidade de que o mesmo dure menos do que 6 anos."
   ]
  },
  {
   "cell_type": "code",
   "execution_count": null,
   "metadata": {},
   "outputs": [],
   "source": [
    "# ESCREVA SEU CÓDIGO AQUI"
   ]
  },
  {
   "cell_type": "markdown",
   "metadata": {},
   "source": [
    "<div id=\"q1c\"></div>\n",
    "\n",
    "c.  **[1,0 ponto]** Encontre qual o maior tempo de vida de um drive de Blu-ray utilizado apenas para leitura considerando $40\\%$ desses drives que sobrevivem menos. Chame esse valor de `t_maior`. Considerando esse valor encontrado para `t_maior`, calcule a probabilidade de um drive de Blu-ray utilizado apenas para escrita sobreviva até esse valor `t_maior`.\n"
   ]
  },
  {
   "cell_type": "code",
   "execution_count": null,
   "metadata": {},
   "outputs": [],
   "source": [
    "# ESCREVA SEU CÓDIGO AQUI"
   ]
  },
  {
   "cell_type": "markdown",
   "metadata": {},
   "source": [
    "<div id=\"q1d\"></div>\n",
    "\n",
    "d. **[1,0 ponto]** Encontre a probabilidade de um drive de Blu-ray qualquer durar mais do que 6 anos. \n",
    "\n",
    "*Observação*: Entenda como \"drive de Blu-ray **qualquer**\" como sendo um drive de Blu-ray que pode ser utilizado apenas para leitura ou um drive de Blu-ray que pode ser utilizado apenas para escrita.\n",
    "\n"
   ]
  },
  {
   "cell_type": "code",
   "execution_count": null,
   "metadata": {},
   "outputs": [],
   "source": [
    "# ESCREVA SEU CÓDIGO AQUI"
   ]
  },
  {
   "cell_type": "markdown",
   "metadata": {},
   "source": [
    "<div id=\"q1e\"></div>\n",
    "\n",
    "e. **[1,0 ponto]** Se um drive de Blu-ray qualquer durou menos do que 6 anos, encontre a probabilidade de que o mesmo tenha sido utilizado apenas para leitura.\n"
   ]
  },
  {
   "cell_type": "code",
   "execution_count": null,
   "metadata": {},
   "outputs": [],
   "source": [
    "# ESCREVA SEU CÓDIGO AQUI"
   ]
  },
  {
   "cell_type": "markdown",
   "metadata": {},
   "source": [
    "<div id=\"q1f\"></div>\n",
    "\n",
    "f. **[0,75 ponto]** Assuma que caixas são vendidas com 20 unidades de drives de Blu-ray quaisquer. Calcule a probabilidade de que pelo menos 10 drives de Blu-ray quaisquer durem mais do que 6 anos.\n"
   ]
  },
  {
   "cell_type": "code",
   "execution_count": null,
   "metadata": {},
   "outputs": [],
   "source": [
    "# ESCREVA SEU CÓDIGO AQUI"
   ]
  },
  {
   "cell_type": "code",
   "execution_count": null,
   "metadata": {},
   "outputs": [],
   "source": []
  },
  {
   "cell_type": "markdown",
   "metadata": {},
   "source": [
    "___\n",
    "<div id=\"perg2q1\"></div> \n",
    "\n",
    "### Perguntas usando Dados e Modelos Teóricos\n",
    "\n",
    "<img src=\"./factory.jpg\" width=33% alt=\"Fonte: https://www.bangkokpost.com/print/436135/\"> </img>\n",
    "\n",
    "Testes de laboratório foram realizados para estimar a vida útil dos drives de Blu-ray. Nesse experimento, alguns drives foram utilizados apenas para leitura e outros apenas para escrita. Os dados coletados estão disponíveis no arquivo `VidaUtil.xlsx`. Cada linha representa um drive. A coluna `Meio` indica se o drive foi utilizado apenas para *Leitura* ou apenas para *Escrita*. E a coluna `Tempo` indica a sua vida útil do drive, em anos."
   ]
  },
  {
   "cell_type": "markdown",
   "metadata": {},
   "source": [
    "**Carregando os dados**\n",
    "\n",
    "Abra a base de dados: `VidaUtil.xlsx`\n"
   ]
  },
  {
   "cell_type": "code",
   "execution_count": null,
   "metadata": {
    "scrolled": false
   },
   "outputs": [],
   "source": [
    "# Carregando os dados\n",
    "dados = pd.read_excel('VidaUtil.xlsx')\n",
    "dados.head(10)"
   ]
  },
  {
   "cell_type": "markdown",
   "metadata": {},
   "source": [
    "<div id=\"q1g\"></div>\n",
    "\n",
    "g. **[0,5 ponto]** Considerando os valores observados na coluna `Tempo` na base de dados, estime os valores de 𝜇 separadamente para `Escrita` e para `Leitura`. \n"
   ]
  },
  {
   "cell_type": "code",
   "execution_count": null,
   "metadata": {},
   "outputs": [],
   "source": [
    "# ESCREVA SEU CÓDIGO AQUI"
   ]
  },
  {
   "cell_type": "markdown",
   "metadata": {},
   "source": [
    "<div id=\"q1h\"></div>\n",
    "\n",
    "h. **[1,0 ponto]** Utilizando as estimativas obtidas no exercício anterior, faça o gráfico a seguir utilizando `Tempo` apenas para *Leitura* e depois `Tempo` apenas para *Escrita*:\n",
    "\n",
    "  * Calcule a função densidade de probabbilidade (f.d.p.) da exponencial assumindo agora a estimativa de $\\mu$ no argumento `scale` conforme calculado no item anterior.\n",
    "  * Visualize a f.d.p. anterior sobre o histograma de densidade obtido a partir dos dados. No argumento `bins` do histograma, use faixas que permita ter um bom visual gráfico do histograma. \n",
    "\n",
    "*Observação*: Neste item, você deve construir dois gráficos: um apenas para *Leitura* e outro apenas para  *Escrita*."
   ]
  },
  {
   "cell_type": "code",
   "execution_count": null,
   "metadata": {},
   "outputs": [],
   "source": [
    "# ESCREVA SEU CÓDIGO AQUI"
   ]
  },
  {
   "cell_type": "markdown",
   "metadata": {},
   "source": [
    "<div id=\"q1i\"></div>\n",
    "\n",
    "i. **[1,0 ponto]** Discurse (escreva sua resposta no teste do Blackboard):\n",
    "  * Considerando os resultados do item (g), discuta sobre a adequação das médias propostas nos modelos teóricos quando confrontadas com as respectivas médias estimadas.\n",
    "  * Considerando os resultados do item (h), discuta sobre a adequação da distribuição Exponencial para ajustar os dados apresentados na coluna `Tempo` apenas para *Leitura* e depois `Tempo` apenas para *Escrita*.\n",
    "  \n"
   ]
  },
  {
   "cell_type": "code",
   "execution_count": null,
   "metadata": {},
   "outputs": [],
   "source": [
    "# ESCREVA SUA RESPOSTA AQUI"
   ]
  },
  {
   "cell_type": "markdown",
   "metadata": {},
   "source": [
    "<div id=\"q2\"></div>\n",
    "\n",
    "___\n",
    "## Questão 2 - 2,50 pontos"
   ]
  },
  {
   "cell_type": "markdown",
   "metadata": {},
   "source": [
    "<img src=\"./1200px-Easter-Eggs-1.jpg\" width=33% alt=\"Fonte: https://pt.wikipedia.org/wiki/Ovo_de_P%C3%A1scoa\"> </img>\n",
    "\n",
    "Nessa época de Páscoa, as empresas que produzem ovos de chocolate fazem controle da quantidade de ovos de chocolate quebrados durante o transporte como indicador de qualidade do serviço.\n",
    "\n",
    "Considere que haja o interesse de modelar o número de ovos de chocolate quebrados durante o transporte em cada entrega e que, para essa variável, será feito o uso da distribuição Poisson com parâmetro $\\mu=15$.\n",
    "\n",
    "**Responda:**\n",
    "\n",
    "<div id=\"q2a\"></div>\n",
    "\n",
    "a. **[0,75 ponto]** Calcule as probabilidades:\n",
    "\n",
    " 1. de em uma entrega ter exatamente 20 ovos quebrados durante o transporte;\n",
    " 2. de em uma entrega ter no máximo 20 ovos quebrados durante o transporte;\n",
    " 3. de em uma entrega ter pelo menos 20 ovos quebrados durante o transporte;\n"
   ]
  },
  {
   "cell_type": "code",
   "execution_count": null,
   "metadata": {},
   "outputs": [],
   "source": [
    "# ESCREVA SEU CÓDIGO AQUI"
   ]
  },
  {
   "cell_type": "markdown",
   "metadata": {},
   "source": [
    "<div id=\"q2b\"></div>\n",
    "\n",
    "b. **[1 ponto]** A empresa costuma vender cada entrega por $800$ reais. Um cliente faz a seguinte proposta à empresa:\n",
    " * Se em uma entrega não chegar ovos de chocolate quebrados durante o transporte - pagará $1.100$ reais\n",
    " * Se em uma entrega chegar entre 1 e 10 ovos de chocolate quebrados durante o transporte - pagará $1.000$ reais\n",
    " * Se em uma entrega chegar mais de 10 ovos de chocolate quebrados durante o transporte - pagará $600$ reais\n",
    " \n",
    "Calcule o valor esperado que o cliente deve pagar por uma entrega seguindo sua proposta. Ainda, essa proposta é vantajosa para a empresa ou para o cliente? Justifique."
   ]
  },
  {
   "cell_type": "code",
   "execution_count": null,
   "metadata": {},
   "outputs": [],
   "source": [
    "# ESCREVA SEU CÓDIGO AQUI"
   ]
  },
  {
   "cell_type": "markdown",
   "metadata": {},
   "source": [
    "<div id=\"q2c\"></div>\n",
    "\n",
    "c. **[0,75 ponto]** Decorrente do aumento da demanda nas vésperas da Páscoa, em cada entrega, houve um adicional de 5 ovos de chocolate quebrados durante o transporte. Com isso, a empresa fez alguns ajustes na maneira de embalar os ovos de chocolate que deve reduzir essa nova quantidade em $20\\%$. Após todas essas mudanças, calcule o novo valor médio e respectivo desvio padrão da quantidade de ovos quebrados durante o transporte em cada entrega.\n",
    "\n"
   ]
  },
  {
   "cell_type": "code",
   "execution_count": null,
   "metadata": {},
   "outputs": [],
   "source": [
    "# ESCREVA SEU CÓDIGO AQUI"
   ]
  },
  {
   "cell_type": "code",
   "execution_count": null,
   "metadata": {},
   "outputs": [],
   "source": []
  }
 ],
 "metadata": {
  "hide_input": false,
  "kernelspec": {
   "display_name": "Python 3",
   "language": "python",
   "name": "python3"
  },
  "language_info": {
   "codemirror_mode": {
    "name": "ipython",
    "version": 3
   },
   "file_extension": ".py",
   "mimetype": "text/x-python",
   "name": "python",
   "nbconvert_exporter": "python",
   "pygments_lexer": "ipython3",
   "version": "3.7.4"
  }
 },
 "nbformat": 4,
 "nbformat_minor": 2
}
